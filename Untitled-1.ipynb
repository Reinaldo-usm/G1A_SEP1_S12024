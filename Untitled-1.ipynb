{
 "cells": [
  {
   "cell_type": "code",
   "execution_count": 9,
   "metadata": {},
   "outputs": [],
   "source": [
    "import pandapower as pp\n",
    "import pandapower.plotting.plotly as pplot\n",
    "\n",
    "net = pp.create_empty_network()\n",
    "# Crear un nuevo tipo de línea\n",
    "line_data = {\"r_ohm_per_km\": 0.02, \"x_ohm_per_km\": 0.115, \"c_nf_per_km\": 19.1, \"max_i_ka\": 1., \"type\": \"line\"}\n",
    "pp.create_std_type(net, line_data, \"linea\")\n",
    "b1 = pp.create_bus(net, vn_kv=500.)\n",
    "b2 = pp.create_bus(net, vn_kv=500.)\n",
    "# Crear una línea utilizando el nuevo tipo de línea\n",
    "linea1 = pp.create_line(net, from_bus=b1, to_bus=b2, length_km=500., std_type=\"linea\", name=\"linea1\", parallel=2)\n",
    "pp.create_ext_grid(net, bus=b1, vm_pu=1., name=\"barra_ext\")\n",
    "pp.create_load(net, bus=b2, p_mw=p, q_mvar=q, name=\"carga1\")\n",
    "pp.runpp(net)\n",
    "pplot.simple_plotly(net)"
   ]
  },
  {
   "cell_type": "code",
   "execution_count": 16,
   "metadata": {},
   "outputs": [
    {
     "ename": "UserWarning",
     "evalue": "Unknown standard trafo type 100MVA_220/110_kV",
     "output_type": "error",
     "traceback": [
      "\u001b[1;31m---------------------------------------------------------------------------\u001b[0m",
      "\u001b[1;31mUserWarning\u001b[0m                               Traceback (most recent call last)",
      "Cell \u001b[1;32mIn[16], line 15\u001b[0m\n\u001b[0;32m     13\u001b[0m b6 \u001b[38;5;241m=\u001b[39m pp\u001b[38;5;241m.\u001b[39mcreate_bus(net, vn_kv\u001b[38;5;241m=\u001b[39m\u001b[38;5;241m220.\u001b[39m)\n\u001b[0;32m     14\u001b[0m b7 \u001b[38;5;241m=\u001b[39m pp\u001b[38;5;241m.\u001b[39mcreate_bus(net, vn_kv\u001b[38;5;241m=\u001b[39m\u001b[38;5;241m220.\u001b[39m)\n\u001b[1;32m---> 15\u001b[0m trafo \u001b[38;5;241m=\u001b[39m pp\u001b[38;5;241m.\u001b[39mcreate_transformer(net, hv_bus\u001b[38;5;241m=\u001b[39mb2, lv_bus\u001b[38;5;241m=\u001b[39mb1, std_type\u001b[38;5;241m=\u001b[39m\u001b[38;5;124m\"\u001b[39m\u001b[38;5;124m100MVA_220/110_kV\u001b[39m\u001b[38;5;124m\"\u001b[39m, name\u001b[38;5;241m=\u001b[39m\u001b[38;5;124m\"\u001b[39m\u001b[38;5;124mtrafo1\u001b[39m\u001b[38;5;124m\"\u001b[39m)\n\u001b[0;32m     16\u001b[0m \u001b[38;5;66;03m# Crear una línea utilizando el nuevo tipo de línea\u001b[39;00m\n\u001b[0;32m     17\u001b[0m linea1 \u001b[38;5;241m=\u001b[39m pp\u001b[38;5;241m.\u001b[39mcreate_line(net, from_bus\u001b[38;5;241m=\u001b[39mb2, to_bus\u001b[38;5;241m=\u001b[39mb3, length_km\u001b[38;5;241m=\u001b[39m\u001b[38;5;241m10.\u001b[39m, std_type\u001b[38;5;241m=\u001b[39m\u001b[38;5;124m\"\u001b[39m\u001b[38;5;124mN2XS(FL)2Y 1x185 RM/35 64/110 kV\u001b[39m\u001b[38;5;124m\"\u001b[39m, name\u001b[38;5;241m=\u001b[39m\u001b[38;5;124m\"\u001b[39m\u001b[38;5;124mlinea1\u001b[39m\u001b[38;5;124m\"\u001b[39m)\n",
      "File \u001b[1;32mc:\\Users\\reina\\anaconda3\\Lib\\site-packages\\pandapower\\create.py:2643\u001b[0m, in \u001b[0;36mcreate_transformer\u001b[1;34m(net, hv_bus, lv_bus, std_type, name, tap_pos, in_service, index, max_loading_percent, parallel, df, tap_dependent_impedance, vk_percent_characteristic, vkr_percent_characteristic, pt_percent, oltc, xn_ohm, tap2_pos, **kwargs)\u001b[0m\n\u001b[0;32m   2637\u001b[0m     \u001b[38;5;28;01mraise\u001b[39;00m \u001b[38;5;167;01mUserWarning\u001b[39;00m(\u001b[38;5;124m\"\u001b[39m\u001b[38;5;124mderating factor df must be positive: df = \u001b[39m\u001b[38;5;132;01m%.3f\u001b[39;00m\u001b[38;5;124m\"\u001b[39m \u001b[38;5;241m%\u001b[39m df)\n\u001b[0;32m   2639\u001b[0m v \u001b[38;5;241m=\u001b[39m {\n\u001b[0;32m   2640\u001b[0m     \u001b[38;5;124m\"\u001b[39m\u001b[38;5;124mname\u001b[39m\u001b[38;5;124m\"\u001b[39m: name, \u001b[38;5;124m\"\u001b[39m\u001b[38;5;124mhv_bus\u001b[39m\u001b[38;5;124m\"\u001b[39m: hv_bus, \u001b[38;5;124m\"\u001b[39m\u001b[38;5;124mlv_bus\u001b[39m\u001b[38;5;124m\"\u001b[39m: lv_bus,\n\u001b[0;32m   2641\u001b[0m     \u001b[38;5;124m\"\u001b[39m\u001b[38;5;124min_service\u001b[39m\u001b[38;5;124m\"\u001b[39m: \u001b[38;5;28mbool\u001b[39m(in_service), \u001b[38;5;124m\"\u001b[39m\u001b[38;5;124mstd_type\u001b[39m\u001b[38;5;124m\"\u001b[39m: std_type\n\u001b[0;32m   2642\u001b[0m }\n\u001b[1;32m-> 2643\u001b[0m ti \u001b[38;5;241m=\u001b[39m load_std_type(net, std_type, \u001b[38;5;124m\"\u001b[39m\u001b[38;5;124mtrafo\u001b[39m\u001b[38;5;124m\"\u001b[39m)\n\u001b[0;32m   2645\u001b[0m updates \u001b[38;5;241m=\u001b[39m {\n\u001b[0;32m   2646\u001b[0m     \u001b[38;5;124m\"\u001b[39m\u001b[38;5;124msn_mva\u001b[39m\u001b[38;5;124m\"\u001b[39m: ti[\u001b[38;5;124m\"\u001b[39m\u001b[38;5;124msn_mva\u001b[39m\u001b[38;5;124m\"\u001b[39m],\n\u001b[0;32m   2647\u001b[0m     \u001b[38;5;124m\"\u001b[39m\u001b[38;5;124mvn_hv_kv\u001b[39m\u001b[38;5;124m\"\u001b[39m: ti[\u001b[38;5;124m\"\u001b[39m\u001b[38;5;124mvn_hv_kv\u001b[39m\u001b[38;5;124m\"\u001b[39m],\n\u001b[1;32m   (...)\u001b[0m\n\u001b[0;32m   2658\u001b[0m         ti[\u001b[38;5;124m\"\u001b[39m\u001b[38;5;124mtap_phase_shifter\u001b[39m\u001b[38;5;124m\"\u001b[39m]) \u001b[38;5;28;01melse\u001b[39;00m \u001b[38;5;28;01mFalse\u001b[39;00m\n\u001b[0;32m   2659\u001b[0m }\n\u001b[0;32m   2660\u001b[0m \u001b[38;5;28;01mif\u001b[39;00m \u001b[38;5;124m\"\u001b[39m\u001b[38;5;124mtap2_phase_shifter\u001b[39m\u001b[38;5;124m\"\u001b[39m \u001b[38;5;129;01min\u001b[39;00m ti \u001b[38;5;129;01mand\u001b[39;00m pd\u001b[38;5;241m.\u001b[39mnotnull(ti[\u001b[38;5;124m\"\u001b[39m\u001b[38;5;124mtap2_phase_shifter\u001b[39m\u001b[38;5;124m\"\u001b[39m]):\n",
      "File \u001b[1;32mc:\\Users\\reina\\anaconda3\\Lib\\site-packages\\pandapower\\std_types.py:164\u001b[0m, in \u001b[0;36mload_std_type\u001b[1;34m(net, name, element)\u001b[0m\n\u001b[0;32m    162\u001b[0m     \u001b[38;5;28;01mreturn\u001b[39;00m library[name]\n\u001b[0;32m    163\u001b[0m \u001b[38;5;28;01melse\u001b[39;00m:\n\u001b[1;32m--> 164\u001b[0m     \u001b[38;5;28;01mraise\u001b[39;00m \u001b[38;5;167;01mUserWarning\u001b[39;00m(\u001b[38;5;124m\"\u001b[39m\u001b[38;5;124mUnknown standard \u001b[39m\u001b[38;5;132;01m%s\u001b[39;00m\u001b[38;5;124m type \u001b[39m\u001b[38;5;132;01m%s\u001b[39;00m\u001b[38;5;124m\"\u001b[39m \u001b[38;5;241m%\u001b[39m (element, name))\n",
      "\u001b[1;31mUserWarning\u001b[0m: Unknown standard trafo type 100MVA_220/110_kV"
     ]
    }
   ],
   "source": [
    "import pandapower as pp\n",
    "import pandapower.plotting.plotly as pplot\n",
    "\n",
    "net = pp.create_empty_network()\n",
    "p = 150\n",
    "q = 100\n",
    "# Crear un nuevo tipo de línea\n",
    "b1 = pp.create_bus(net, vn_kv=110.)\n",
    "b2 = pp.create_bus(net, vn_kv=220.)\n",
    "b3 = pp.create_bus(net, vn_kv=220.)\n",
    "b4 = pp.create_bus(net, vn_kv=220.)\n",
    "b5 = pp.create_bus(net, vn_kv=220.)\n",
    "b6 = pp.create_bus(net, vn_kv=220.)\n",
    "b7 = pp.create_bus(net, vn_kv=220.)\n",
    "trafo = pp.create_transformer3w(net, hv_bus=b2, lv_bus=b1, std_type=\"100MVA_220/110_kV\", name=\"trafo1\")\n",
    "# Crear una línea utilizando el nuevo tipo de línea\n",
    "linea1 = pp.create_line(net, from_bus=b2, to_bus=b3, length_km=10., std_type=\"N2XS(FL)2Y 1x185 RM/35 64/110 kV\", name=\"linea1\")\n",
    "linea2 = pp.create_line(net, from_bus=b3, to_bus=b4, length_km=15., std_type=\"N2XS(FL)2Y 1x185 RM/35 64/110 kV\", name=\"linea2\")\n",
    "linea3 = pp.create_line(net, from_bus=b4, to_bus=b5, length_km=20., std_type=\"N2XS(FL)2Y 1x185 RM/35 64/110 kV\", name=\"linea3\")\n",
    "linea4 = pp.create_line(net, from_bus=b5, to_bus=b6, length_km=15., std_type=\"N2XS(FL)2Y 1x185 RM/35 64/110 kV\", name=\"linea4\")\n",
    "linea5 = pp.create_line(net, from_bus=b6, to_bus=b7, length_km=30., std_type=\"N2XS(FL)2Y 1x185 RM/35 64/110 kV\", name=\"linea5\")\n",
    "linea6 = pp.create_line(net, from_bus=b7, to_bus=b2, length_km=10., std_type=\"N2XS(FL)2Y 1x185 RM/35 64/110 kV\", name=\"linea6\")\n",
    "pp.create_ext_grid(net, bus=b1, vm_pu=1., name=\"barra_ext\")\n",
    "pp.create_load(net, bus=b3, p_mw=0.2*p, q_mvar=0.2*q, name=\"carga1\")\n",
    "pp.create_load(net, bus=b4, p_mw=0.35*p, q_mvar=0.35*q, name=\"carga2\")\n",
    "pp.create_load(net, bus=b5, p_mw=0.15*p, q_mvar=0.15*q, name=\"carga3\")\n",
    "pp.create_load(net, bus=b6, p_mw=0.6*p, q_mvar=0.6*q, name=\"carga4\")\n",
    "pp.create_load(net, bus=b7, p_mw=0.1*p, q_mvar=0.1*q, name=\"carga5\")\n",
    "pp.runpp(net)\n",
    "pplot.simple_plotly(net)"
   ]
  },
  {
   "cell_type": "markdown",
   "metadata": {},
   "source": []
  }
 ],
 "metadata": {
  "kernelspec": {
   "display_name": "base",
   "language": "python",
   "name": "python3"
  },
  "language_info": {
   "codemirror_mode": {
    "name": "ipython",
    "version": 3
   },
   "file_extension": ".py",
   "mimetype": "text/x-python",
   "name": "python",
   "nbconvert_exporter": "python",
   "pygments_lexer": "ipython3",
   "version": "3.11.7"
  }
 },
 "nbformat": 4,
 "nbformat_minor": 2
}
